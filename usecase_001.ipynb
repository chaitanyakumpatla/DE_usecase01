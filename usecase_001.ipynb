{
 "cells": [
  {
   "cell_type": "code",
   "execution_count": 19,
   "metadata": {},
   "outputs": [],
   "source": [
    "#Import necessary libraries\n",
    "import pandas as pd"
   ]
  },
  {
   "cell_type": "code",
   "execution_count": 20,
   "metadata": {},
   "outputs": [],
   "source": [
    "#Data Ingestion\n",
    "file_csv = 'D:/Data_engineering/usecase_01/sales_data_region_A.csv'\n",
    "file_json = 'D:/Data_engineering/usecase_01/sales_data_region_B.json'\n",
    "file_excel = 'D:/Data_engineering/usecase_01/sales_data_region_C.xlsx'\n",
    "\n",
    "df_csv = pd.read_csv(file_csv)\n",
    "df_json = pd.read_json(file_json)\n",
    "df_excel = pd.read_excel(file_excel)"
   ]
  },
  {
   "cell_type": "code",
   "execution_count": 21,
   "metadata": {},
   "outputs": [],
   "source": [
    "# List of DataFrames\n",
    "dataframes = [df_csv, df_json, df_excel]\n",
    "\n",
    "# Standardize column names and handle missing 'total_sales' in a loop\n",
    "for df in dataframes:\n",
    "    # Standardize column names (lowercase, no spaces)\n",
    "    df.columns = df.columns.str.lower().str.replace(' ', '_')\n",
    "    \n",
    "    # Fill missing 'total_sales' with 0\n",
    "    df.fillna({'total_sales': 0}, inplace=True)\n"
   ]
  },
  {
   "cell_type": "code",
   "execution_count": 22,
   "metadata": {},
   "outputs": [],
   "source": [
    "# Columns to be converted\n",
    "date_column = 'date'\n",
    "numeric_column = 'total_sales'\n",
    "\n",
    "# Iterate over each DataFrame to convert columns\n",
    "for df in dataframes:\n",
    "    # Ensure the date column is in datetime format\n",
    "    df[date_column] = pd.to_datetime(df[date_column])\n",
    "    \n",
    "    # Convert the total_sales column to numeric, forcing invalid values to NaN\n",
    "    df[numeric_column] = pd.to_numeric(df[numeric_column], errors='coerce')"
   ]
  },
  {
   "cell_type": "code",
   "execution_count": 23,
   "metadata": {},
   "outputs": [],
   "source": [
    "# Valid regions to filter\n",
    "valid_regions = ['South', 'West', 'Northwest']\n",
    "\n",
    "# Iterate over each DataFrame to validate the \"region\" column\n",
    "for i, df in enumerate(dataframes):\n",
    "    dataframes[i] = df[df['region'].isin(valid_regions)]"
   ]
  },
  {
   "cell_type": "code",
   "execution_count": 24,
   "metadata": {},
   "outputs": [
    {
     "name": "stderr",
     "output_type": "stream",
     "text": [
      "C:\\Users\\Asus\\AppData\\Local\\Temp\\ipykernel_13840\\1689748281.py:6: SettingWithCopyWarning: \n",
      "A value is trying to be set on a copy of a slice from a DataFrame\n",
      "\n",
      "See the caveats in the documentation: https://pandas.pydata.org/pandas-docs/stable/user_guide/indexing.html#returning-a-view-versus-a-copy\n",
      "  df.drop_duplicates(subset=duplicate_column, keep='first', inplace=True)\n"
     ]
    }
   ],
   "source": [
    "# Column to check for duplicates\n",
    "duplicate_column = 'transaction_id'\n",
    "\n",
    "# Iterate over each DataFrame to check for duplicates and remove them\n",
    "for df in dataframes:\n",
    "    df.drop_duplicates(subset=duplicate_column, keep='first', inplace=True)"
   ]
  },
  {
   "cell_type": "code",
   "execution_count": 25,
   "metadata": {},
   "outputs": [],
   "source": [
    "# Concatenate all DataFrames\n",
    "df_unified = pd.concat([df_csv, df_json, df_excel], ignore_index=True)"
   ]
  },
  {
   "cell_type": "code",
   "execution_count": 26,
   "metadata": {},
   "outputs": [],
   "source": [
    "# Save the final unified DataFrame to a CSV file\n",
    "output_file = 'D:/Data_engineering/usecase_01/unified_sales_data.csv'\n",
    "df_unified.to_csv(output_file, index=False)"
   ]
  },
  {
   "cell_type": "code",
   "execution_count": 27,
   "metadata": {},
   "outputs": [
    {
     "data": {
      "text/html": [
       "<div>\n",
       "<style scoped>\n",
       "    .dataframe tbody tr th:only-of-type {\n",
       "        vertical-align: middle;\n",
       "    }\n",
       "\n",
       "    .dataframe tbody tr th {\n",
       "        vertical-align: top;\n",
       "    }\n",
       "\n",
       "    .dataframe thead th {\n",
       "        text-align: right;\n",
       "    }\n",
       "</style>\n",
       "<table border=\"1\" class=\"dataframe\">\n",
       "  <thead>\n",
       "    <tr style=\"text-align: right;\">\n",
       "      <th></th>\n",
       "      <th>date</th>\n",
       "      <th>store_id</th>\n",
       "      <th>customer_id</th>\n",
       "      <th>payment_type</th>\n",
       "      <th>quantity_sold</th>\n",
       "      <th>unit_price</th>\n",
       "      <th>total_sales</th>\n",
       "      <th>transaction_id</th>\n",
       "      <th>city</th>\n",
       "      <th>region</th>\n",
       "    </tr>\n",
       "  </thead>\n",
       "  <tbody>\n",
       "    <tr>\n",
       "      <th>0</th>\n",
       "      <td>2024-09-01</td>\n",
       "      <td>101</td>\n",
       "      <td>1001</td>\n",
       "      <td>Credit</td>\n",
       "      <td>5</td>\n",
       "      <td>50.0</td>\n",
       "      <td>250</td>\n",
       "      <td>5001</td>\n",
       "      <td>New York</td>\n",
       "      <td>East</td>\n",
       "    </tr>\n",
       "    <tr>\n",
       "      <th>1</th>\n",
       "      <td>2024-09-02</td>\n",
       "      <td>102</td>\n",
       "      <td>1002</td>\n",
       "      <td>Debit</td>\n",
       "      <td>3</td>\n",
       "      <td>60.0</td>\n",
       "      <td>180</td>\n",
       "      <td>5002</td>\n",
       "      <td>Los Angeles</td>\n",
       "      <td>West</td>\n",
       "    </tr>\n",
       "    <tr>\n",
       "      <th>2</th>\n",
       "      <td>2024-09-03</td>\n",
       "      <td>103</td>\n",
       "      <td>1003</td>\n",
       "      <td>Cash</td>\n",
       "      <td>1</td>\n",
       "      <td>55.0</td>\n",
       "      <td>55</td>\n",
       "      <td>5003</td>\n",
       "      <td>Chicago</td>\n",
       "      <td>Midwest</td>\n",
       "    </tr>\n",
       "    <tr>\n",
       "      <th>3</th>\n",
       "      <td>2024-09-04</td>\n",
       "      <td>104</td>\n",
       "      <td>1004</td>\n",
       "      <td>Credit</td>\n",
       "      <td>2</td>\n",
       "      <td>70.0</td>\n",
       "      <td>140</td>\n",
       "      <td>5004</td>\n",
       "      <td>Houston</td>\n",
       "      <td>South</td>\n",
       "    </tr>\n",
       "    <tr>\n",
       "      <th>4</th>\n",
       "      <td>2024-09-05</td>\n",
       "      <td>105</td>\n",
       "      <td>1005</td>\n",
       "      <td>Debit</td>\n",
       "      <td>4</td>\n",
       "      <td>45.0</td>\n",
       "      <td>180</td>\n",
       "      <td>5005</td>\n",
       "      <td>Phoenix</td>\n",
       "      <td>West</td>\n",
       "    </tr>\n",
       "  </tbody>\n",
       "</table>\n",
       "</div>"
      ],
      "text/plain": [
       "        date  store_id  customer_id payment_type  quantity_sold  unit_price  \\\n",
       "0 2024-09-01       101         1001       Credit              5        50.0   \n",
       "1 2024-09-02       102         1002        Debit              3        60.0   \n",
       "2 2024-09-03       103         1003         Cash              1        55.0   \n",
       "3 2024-09-04       104         1004       Credit              2        70.0   \n",
       "4 2024-09-05       105         1005        Debit              4        45.0   \n",
       "\n",
       "   total_sales  transaction_id         city   region  \n",
       "0          250            5001     New York     East  \n",
       "1          180            5002  Los Angeles     West  \n",
       "2           55            5003      Chicago  Midwest  \n",
       "3          140            5004      Houston    South  \n",
       "4          180            5005      Phoenix     West  "
      ]
     },
     "execution_count": 27,
     "metadata": {},
     "output_type": "execute_result"
    }
   ],
   "source": [
    "# Display the first few rows of the unified data\n",
    "df_unified.head()"
   ]
  },
  {
   "cell_type": "code",
   "execution_count": 28,
   "metadata": {},
   "outputs": [
    {
     "name": "stdout",
     "output_type": "stream",
     "text": [
      "date              datetime64[ns]\n",
      "store_id                   int64\n",
      "customer_id                int64\n",
      "payment_type              object\n",
      "quantity_sold              int64\n",
      "unit_price               float64\n",
      "total_sales                int64\n",
      "transaction_id             int64\n",
      "city                      object\n",
      "region                    object\n",
      "dtype: object\n"
     ]
    }
   ],
   "source": [
    "print(df_unified.dtypes)"
   ]
  },
  {
   "cell_type": "code",
   "execution_count": 29,
   "metadata": {},
   "outputs": [
    {
     "name": "stdout",
     "output_type": "stream",
     "text": [
      "<class 'pandas.core.frame.DataFrame'>\n",
      "RangeIndex: 15 entries, 0 to 14\n",
      "Data columns (total 10 columns):\n",
      " #   Column          Non-Null Count  Dtype         \n",
      "---  ------          --------------  -----         \n",
      " 0   date            15 non-null     datetime64[ns]\n",
      " 1   store_id        15 non-null     int64         \n",
      " 2   customer_id     15 non-null     int64         \n",
      " 3   payment_type    15 non-null     object        \n",
      " 4   quantity_sold   15 non-null     int64         \n",
      " 5   unit_price      15 non-null     float64       \n",
      " 6   total_sales     15 non-null     int64         \n",
      " 7   transaction_id  15 non-null     int64         \n",
      " 8   city            15 non-null     object        \n",
      " 9   region          15 non-null     object        \n",
      "dtypes: datetime64[ns](1), float64(1), int64(5), object(3)\n",
      "memory usage: 1.3+ KB\n"
     ]
    }
   ],
   "source": [
    "df_unified.info()"
   ]
  }
 ],
 "metadata": {
  "kernelspec": {
   "display_name": "Python 3",
   "language": "python",
   "name": "python3"
  },
  "language_info": {
   "codemirror_mode": {
    "name": "ipython",
    "version": 3
   },
   "file_extension": ".py",
   "mimetype": "text/x-python",
   "name": "python",
   "nbconvert_exporter": "python",
   "pygments_lexer": "ipython3",
   "version": "3.11.9"
  }
 },
 "nbformat": 4,
 "nbformat_minor": 2
}
